{
 "cells": [
  {
   "cell_type": "code",
   "execution_count": 1,
   "metadata": {
    "collapsed": true
   },
   "outputs": [
    {
     "name": "stderr",
     "output_type": "stream",
     "text": [
      "C:\\Users\\mona\\AppData\\Local\\Temp\\ipykernel_27756\\510794445.py:24: UserWarning: Column names longer than 10 characters will be truncated when saved to ESRI Shapefile.\n",
      "  gdf.to_file('./data/node_shapefile.shp')\n"
     ]
    }
   ],
   "source": [
    "import pandas as pd\n",
    "import geopandas as gpd\n",
    "from shapely.geometry import Point\n",
    "\n",
    "# Load the CSV file\n",
    "df = pd.read_csv('./data/node.csv')\n",
    "\n",
    "# Convert the coordinate strings to Shapely Point objects\n",
    "def convert_to_point(coord_str):\n",
    "    coord = [float(x) for x in coord_str.strip(\"[]\").split(',')]\n",
    "    return Point(coord[0], coord[1])\n",
    "\n",
    "# Applying the conversion to the dataframe\n",
    "df['geometry'] = df['coordinates'].apply(convert_to_point)\n",
    "\n",
    "# Convert the DataFrame to a GeoDataFrame\n",
    "gdf = gpd.GeoDataFrame(df, geometry='geometry')\n",
    "\n",
    "gdf.crs = \"EPSG:4326\"\n",
    "\n",
    "# Saving the GeoDataFrame as a Shapefile\n",
    "gdf.to_file('./data/node_shapefile.shp')\n"
   ]
  },
  {
   "cell_type": "code",
   "execution_count": 3,
   "metadata": {
    "pycharm": {
     "name": "#%%\n"
    }
   },
   "outputs": [
    {
     "name": "stderr",
     "output_type": "stream",
     "text": [
      "C:\\Users\\mona\\AppData\\Local\\Temp\\ipykernel_13088\\3851590522.py:21: UserWarning: Column names longer than 10 characters will be truncated when saved to ESRI Shapefile.\n",
      "  gdf.to_file(shp_file_path)\n"
     ]
    }
   ],
   "source": [
    "import geopandas as gpd\n",
    "import pandas as pd\n",
    "from shapely.geometry import LineString\n",
    "import ast\n",
    "\n",
    "df = pd.read_csv('./data/road.csv')\n",
    "\n",
    "\n",
    "def convert_to_line_string(coord_str):\n",
    "    # Extract coordinates from string and convert them to float\n",
    "    coord_list = ast.literal_eval(coord_str)\n",
    "    return LineString(coord_list)\n",
    "\n",
    "df['geometry'] = df['coordinates'].apply(convert_to_line_string)\n",
    "\n",
    "gdf = gpd.GeoDataFrame(df, geometry='geometry')\n",
    "\n",
    "gdf.crs = \"EPSG:4326\"\n",
    "shp_file_path='./data/road_shapefile.shp'\n",
    "\n",
    "gdf.to_file(shp_file_path)\n"
   ]
  }
 ],
 "metadata": {
  "kernelspec": {
   "display_name": "Python 3.9.15 ('d2l')",
   "language": "python",
   "name": "python3"
  },
  "language_info": {
   "codemirror_mode": {
    "name": "ipython",
    "version": 3
   },
   "file_extension": ".py",
   "mimetype": "text/x-python",
   "name": "python",
   "nbconvert_exporter": "python",
   "pygments_lexer": "ipython3",
   "version": "3.9.15"
  },
  "vscode": {
   "interpreter": {
    "hash": "6ff14b078c74b440b06f7881e774414d38456f5eca3c223ff5697b263e4d91ae"
   }
  }
 },
 "nbformat": 4,
 "nbformat_minor": 0
}