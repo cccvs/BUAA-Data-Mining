{
 "cells": [
  {
   "cell_type": "code",
   "execution_count": 1,
   "id": "182ba891",
   "metadata": {},
   "outputs": [],
   "source": [
    "import pandas as pd\n",
    "from shapely.wkt import loads\n",
    "\n",
    "# generate usr\n",
    "df_traj = pd.read_csv('data/traj.csv')\n",
    "df_usr = pd.DataFrame({'usr_id': df_traj['entity_id'].drop_duplicates().sort_values()})\n",
    "df_usr.to_csv('jump.usr', index=False)\n",
    "\n",
    "# generate geo\n",
    "def wkt_to_coordinates(wkt):\n",
    "    geom = loads(wkt)\n",
    "    return f\"[{geom.x}, {geom.y}]\"\n",
    "\n",
    "df_node_split = pd.read_csv('data/node_split.csv')\n",
    "df_geo = pd.DataFrame({\n",
    "    'geo_id': df_node_split['id'],  # Inheriting the 'geo_id' from 'id'\n",
    "    'type': 'Point',  # Setting 'type' as 'Point' for all rows\n",
    "    'coordinates': df_node_split['WKT'].apply(wkt_to_coordinates)  # Extracting coordinates from 'WKT'\n",
    "})\n",
    "df_usr.to_csv('jump.geo', index=False)\n"
   ]
  },
  {
   "cell_type": "code",
   "execution_count": 16,
   "id": "b5f5397f",
   "metadata": {},
   "outputs": [
    {
     "name": "stdout",
     "output_type": "stream",
     "text": [
      "Traj ID: 0\n",
      "    id                  time  entity_id  traj_id             coordinates  \\\n",
      "0    0  2013-10-08T17:45:00Z        254        0  [116.318726,40.009014]   \n",
      "1    1  2013-10-08T17:46:45Z        254        0  [116.315102,40.004784]   \n",
      "2    2  2013-10-08T17:47:39Z        254        0  [116.315018,40.002842]   \n",
      "3    3  2013-10-08T17:49:26Z        254        0  [116.315041,39.998585]   \n",
      "4    4  2013-10-08T17:51:15Z        254        0  [116.315605,39.992554]   \n",
      "5    5  2013-10-08T17:52:09Z        254        0  [116.315735,39.987846]   \n",
      "6    6  2013-10-08T17:54:55Z        254        0  [116.313332,39.985687]   \n",
      "7    7  2013-10-08T17:55:48Z        254        0  [116.305832,39.985264]   \n",
      "8    8  2013-10-08T17:56:45Z        254        0   [116.298225,39.98381]   \n",
      "9    9  2013-10-08T17:57:39Z        254        0  [116.300819,39.977249]   \n",
      "10  10  2013-10-08T17:58:35Z        254        0  [116.305977,39.970459]   \n",
      "11  11  2013-10-08T17:59:27Z        254        0  [116.307533,39.963829]   \n",
      "12  12  2013-10-08T18:00:20Z        254        0  [116.307411,39.959034]   \n",
      "13  13  2013-10-08T18:02:10Z        254        0  [116.310738,39.957153]   \n",
      "14  14  2013-10-08T18:03:11Z        254        0  [116.316505,39.956985]   \n",
      "15  15  2013-10-08T18:06:04Z        254        0  [116.320061,39.956863]   \n",
      "16  16  2013-10-08T18:07:55Z        254        0  [116.322777,39.956833]   \n",
      "17  17  2013-10-08T18:10:35Z        254        0  [116.331802,39.957325]   \n",
      "18  18  2013-10-08T18:11:29Z        254        0  [116.334541,39.957516]   \n",
      "19  19  2013-10-08T18:13:16Z        254        0  [116.339546,39.957878]   \n",
      "20  20  2013-10-08T18:14:11Z        254        0   [116.34227,39.958008]   \n",
      "\n",
      "    current_dis   speeds  holidays  \n",
      "0      0.000000  36.6900         0  \n",
      "1      0.562623  24.5375         0  \n",
      "2      0.778695  31.9675         0  \n",
      "3      1.252148  19.7850         0  \n",
      "4      1.924533  24.4500         0  \n",
      "5      2.448189  25.1500         0  \n",
      "6      2.835960  43.1750         0  \n",
      "7      3.476716  40.7325         0  \n",
      "8      4.144731  55.7575         0  \n",
      "9      4.907073  46.2925         0  \n",
      "10     5.780757  34.9875         0  \n",
      "11     6.529857  24.5000         0  \n",
      "12     7.063171  51.2825         0  \n",
      "13     7.425487  22.0075         0  \n",
      "14     7.917415  17.2575         0  \n",
      "15     8.221189  23.8050         0  \n",
      "16     8.452772  18.2425         0  \n",
      "17     9.224689  42.6450         0  \n",
      "18     9.459122  26.6475         0  \n",
      "19     9.887754  26.8925         0  \n",
      "20    10.120391  24.4525         0  \n"
     ]
    }
   ],
   "source": [
    "# generate dyna\n",
    "df_traj = pd.read_csv('data/traj.csv')\n",
    "for name, group in df_traj.groupby('traj_id'):\n",
    "    print(f\"Traj ID: {name}\")\n",
    "    print(group)\n",
    "    break"
   ]
  }
 ],
 "metadata": {
  "kernelspec": {
   "display_name": "Python 3",
   "language": "python",
   "name": "python3"
  },
  "language_info": {
   "codemirror_mode": {
    "name": "ipython",
    "version": 3
   },
   "file_extension": ".py",
   "mimetype": "text/x-python",
   "name": "python",
   "nbconvert_exporter": "python",
   "pygments_lexer": "ipython3",
   "version": "3.9.18"
  }
 },
 "nbformat": 4,
 "nbformat_minor": 5
}
