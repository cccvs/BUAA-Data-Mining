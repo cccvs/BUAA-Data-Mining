{
 "cells": [
  {
   "cell_type": "code",
   "execution_count": 2,
   "id": "initial_id",
   "metadata": {
    "collapsed": true,
    "ExecuteTime": {
     "end_time": "2023-11-15T17:20:16.049828Z",
     "start_time": "2023-11-15T17:20:15.679114Z"
    }
   },
   "outputs": [],
   "source": [
    "import pandas as pd\n",
    "import pathlib"
   ]
  },
  {
   "cell_type": "code",
   "execution_count": 4,
   "outputs": [],
   "source": [
    "cwd = pathlib.Path.cwd()"
   ],
   "metadata": {
    "collapsed": false,
    "ExecuteTime": {
     "end_time": "2023-11-15T17:20:26.093082Z",
     "start_time": "2023-11-15T17:20:26.082054Z"
    }
   },
   "id": "abd8235f7f480618"
  },
  {
   "cell_type": "code",
   "execution_count": 3,
   "outputs": [
    {
     "data": {
      "text/plain": "       origin_id  destination_id\nid                              \n0              0            2832\n1              0            2833\n2           3550            2832\n3           3550            2833\n4              1           27597\n...          ...             ...\n95655      38017            4284\n95656      38018           38021\n95657      38023           15217\n95658      38023           15218\n95659      38024           38025\n\n[95660 rows x 2 columns]",
      "text/html": "<div>\n<style scoped>\n    .dataframe tbody tr th:only-of-type {\n        vertical-align: middle;\n    }\n\n    .dataframe tbody tr th {\n        vertical-align: top;\n    }\n\n    .dataframe thead th {\n        text-align: right;\n    }\n</style>\n<table border=\"1\" class=\"dataframe\">\n  <thead>\n    <tr style=\"text-align: right;\">\n      <th></th>\n      <th>origin_id</th>\n      <th>destination_id</th>\n    </tr>\n    <tr>\n      <th>id</th>\n      <th></th>\n      <th></th>\n    </tr>\n  </thead>\n  <tbody>\n    <tr>\n      <th>0</th>\n      <td>0</td>\n      <td>2832</td>\n    </tr>\n    <tr>\n      <th>1</th>\n      <td>0</td>\n      <td>2833</td>\n    </tr>\n    <tr>\n      <th>2</th>\n      <td>3550</td>\n      <td>2832</td>\n    </tr>\n    <tr>\n      <th>3</th>\n      <td>3550</td>\n      <td>2833</td>\n    </tr>\n    <tr>\n      <th>4</th>\n      <td>1</td>\n      <td>27597</td>\n    </tr>\n    <tr>\n      <th>...</th>\n      <td>...</td>\n      <td>...</td>\n    </tr>\n    <tr>\n      <th>95655</th>\n      <td>38017</td>\n      <td>4284</td>\n    </tr>\n    <tr>\n      <th>95656</th>\n      <td>38018</td>\n      <td>38021</td>\n    </tr>\n    <tr>\n      <th>95657</th>\n      <td>38023</td>\n      <td>15217</td>\n    </tr>\n    <tr>\n      <th>95658</th>\n      <td>38023</td>\n      <td>15218</td>\n    </tr>\n    <tr>\n      <th>95659</th>\n      <td>38024</td>\n      <td>38025</td>\n    </tr>\n  </tbody>\n</table>\n<p>95660 rows × 2 columns</p>\n</div>"
     },
     "execution_count": 3,
     "metadata": {},
     "output_type": "execute_result"
    }
   ],
   "source": [
    "rel = pd.read_csv(cwd / 'data' / 'rel.csv', index_col=0)\n",
    "rel"
   ],
   "metadata": {
    "collapsed": false,
    "ExecuteTime": {
     "end_time": "2023-10-11T09:04:46.880780Z",
     "start_time": "2023-10-11T09:04:46.850798Z"
    }
   },
   "id": "a1d66292cb4a2283"
  },
  {
   "cell_type": "markdown",
   "source": [
    "rel.csv：记录路段之间的连接关系\n",
    "origin_id：起始路段\n",
    "destination"
   ],
   "metadata": {
    "collapsed": false
   },
   "id": "bcb331fba677be77"
  },
  {
   "cell_type": "code",
   "execution_count": 4,
   "outputs": [
    {
     "data": {
      "text/plain": "                                             coordinates  highway   length  \\\nid                                                                           \n0      [[116.3894407, 39.9062721], [116.3894463, 39.9...        4   28.981   \n1      [[116.3894407, 39.9062721], [116.386428, 39.90...        4  325.040   \n2      [[116.3930703, 39.906394], [116.3894407, 39.90...        4  309.891   \n3      [[116.3970962, 39.9065222], [116.3930703, 39.9...        4  343.693   \n4      [[116.3970962, 39.9065222], [116.3970144, 39.9...       11   34.704   \n...                                                  ...      ...      ...   \n38022  [[116.4025587, 39.8338872], [116.4018688, 39.8...        6  328.697   \n38023  [[116.406357, 39.8311645], [116.4062061, 39.83...        8   12.886   \n38024  [[116.406357, 39.8311645], [116.4062083, 39.83...        6  304.376   \n38025  [[116.4059676, 39.8338401], [116.406125, 39.83...        6  304.376   \n38026  [[116.3121472, 39.9935096], [116.3121727, 39.9...        6  134.104   \n\n       lanes  tunnel  bridge  maxspeed  width  alley  roundabout  \nid                                                                \n0          0       0       0         0      0      0           0  \n1          5       0       0         0      0      0           0  \n2          5       0       0         0      0      0           0  \n3          5       0       0         0      0      0           0  \n4          0       0       0         0      0      0           0  \n...      ...     ...     ...       ...    ...    ...         ...  \n38022      0       0       0         0      0      0           0  \n38023      0       0       0         0      0      0           0  \n38024      0       0       0         0      0      0           0  \n38025      0       0       0         0      0      0           0  \n38026      0       0       0         0      0      0           0  \n\n[38027 rows x 10 columns]",
      "text/html": "<div>\n<style scoped>\n    .dataframe tbody tr th:only-of-type {\n        vertical-align: middle;\n    }\n\n    .dataframe tbody tr th {\n        vertical-align: top;\n    }\n\n    .dataframe thead th {\n        text-align: right;\n    }\n</style>\n<table border=\"1\" class=\"dataframe\">\n  <thead>\n    <tr style=\"text-align: right;\">\n      <th></th>\n      <th>coordinates</th>\n      <th>highway</th>\n      <th>length</th>\n      <th>lanes</th>\n      <th>tunnel</th>\n      <th>bridge</th>\n      <th>maxspeed</th>\n      <th>width</th>\n      <th>alley</th>\n      <th>roundabout</th>\n    </tr>\n    <tr>\n      <th>id</th>\n      <th></th>\n      <th></th>\n      <th></th>\n      <th></th>\n      <th></th>\n      <th></th>\n      <th></th>\n      <th></th>\n      <th></th>\n      <th></th>\n    </tr>\n  </thead>\n  <tbody>\n    <tr>\n      <th>0</th>\n      <td>[[116.3894407, 39.9062721], [116.3894463, 39.9...</td>\n      <td>4</td>\n      <td>28.981</td>\n      <td>0</td>\n      <td>0</td>\n      <td>0</td>\n      <td>0</td>\n      <td>0</td>\n      <td>0</td>\n      <td>0</td>\n    </tr>\n    <tr>\n      <th>1</th>\n      <td>[[116.3894407, 39.9062721], [116.386428, 39.90...</td>\n      <td>4</td>\n      <td>325.040</td>\n      <td>5</td>\n      <td>0</td>\n      <td>0</td>\n      <td>0</td>\n      <td>0</td>\n      <td>0</td>\n      <td>0</td>\n    </tr>\n    <tr>\n      <th>2</th>\n      <td>[[116.3930703, 39.906394], [116.3894407, 39.90...</td>\n      <td>4</td>\n      <td>309.891</td>\n      <td>5</td>\n      <td>0</td>\n      <td>0</td>\n      <td>0</td>\n      <td>0</td>\n      <td>0</td>\n      <td>0</td>\n    </tr>\n    <tr>\n      <th>3</th>\n      <td>[[116.3970962, 39.9065222], [116.3930703, 39.9...</td>\n      <td>4</td>\n      <td>343.693</td>\n      <td>5</td>\n      <td>0</td>\n      <td>0</td>\n      <td>0</td>\n      <td>0</td>\n      <td>0</td>\n      <td>0</td>\n    </tr>\n    <tr>\n      <th>4</th>\n      <td>[[116.3970962, 39.9065222], [116.3970144, 39.9...</td>\n      <td>11</td>\n      <td>34.704</td>\n      <td>0</td>\n      <td>0</td>\n      <td>0</td>\n      <td>0</td>\n      <td>0</td>\n      <td>0</td>\n      <td>0</td>\n    </tr>\n    <tr>\n      <th>...</th>\n      <td>...</td>\n      <td>...</td>\n      <td>...</td>\n      <td>...</td>\n      <td>...</td>\n      <td>...</td>\n      <td>...</td>\n      <td>...</td>\n      <td>...</td>\n      <td>...</td>\n    </tr>\n    <tr>\n      <th>38022</th>\n      <td>[[116.4025587, 39.8338872], [116.4018688, 39.8...</td>\n      <td>6</td>\n      <td>328.697</td>\n      <td>0</td>\n      <td>0</td>\n      <td>0</td>\n      <td>0</td>\n      <td>0</td>\n      <td>0</td>\n      <td>0</td>\n    </tr>\n    <tr>\n      <th>38023</th>\n      <td>[[116.406357, 39.8311645], [116.4062061, 39.83...</td>\n      <td>8</td>\n      <td>12.886</td>\n      <td>0</td>\n      <td>0</td>\n      <td>0</td>\n      <td>0</td>\n      <td>0</td>\n      <td>0</td>\n      <td>0</td>\n    </tr>\n    <tr>\n      <th>38024</th>\n      <td>[[116.406357, 39.8311645], [116.4062083, 39.83...</td>\n      <td>6</td>\n      <td>304.376</td>\n      <td>0</td>\n      <td>0</td>\n      <td>0</td>\n      <td>0</td>\n      <td>0</td>\n      <td>0</td>\n      <td>0</td>\n    </tr>\n    <tr>\n      <th>38025</th>\n      <td>[[116.4059676, 39.8338401], [116.406125, 39.83...</td>\n      <td>6</td>\n      <td>304.376</td>\n      <td>0</td>\n      <td>0</td>\n      <td>0</td>\n      <td>0</td>\n      <td>0</td>\n      <td>0</td>\n      <td>0</td>\n    </tr>\n    <tr>\n      <th>38026</th>\n      <td>[[116.3121472, 39.9935096], [116.3121727, 39.9...</td>\n      <td>6</td>\n      <td>134.104</td>\n      <td>0</td>\n      <td>0</td>\n      <td>0</td>\n      <td>0</td>\n      <td>0</td>\n      <td>0</td>\n      <td>0</td>\n    </tr>\n  </tbody>\n</table>\n<p>38027 rows × 10 columns</p>\n</div>"
     },
     "execution_count": 4,
     "metadata": {},
     "output_type": "execute_result"
    }
   ],
   "source": [
    "road = pd.read_csv(cwd / 'data' / 'road.csv', index_col=0)\n",
    "road"
   ],
   "metadata": {
    "collapsed": false,
    "ExecuteTime": {
     "end_time": "2023-10-11T09:04:48.811436Z",
     "start_time": "2023-10-11T09:04:48.760730Z"
    }
   },
   "id": "b0777067430fe5ed"
  },
  {
   "cell_type": "markdown",
   "source": [
    "road.csv：记录路段的属性，0 一般表示缺失值\n",
    "coordinates: 路段范围\n",
    "highway: 路段类型，具体含义见 highway2num.json\n",
    "lanes: 车道数\n",
    "maxspeed: 最高限速\n",
    "bridge: 是否为桥梁\n",
    "tunnel: 是否为隧道\n",
    "alley: 是否为小巷\n",
    "roundabout: 是否为环岛\n",
    "width: 路段宽度"
   ],
   "metadata": {
    "collapsed": false
   },
   "id": "32fce2078129030e"
  },
  {
   "cell_type": "code",
   "execution_count": 5,
   "outputs": [
    {
     "data": {
      "text/plain": "                        time  entity_id  traj_id             coordinates  \\\nid                                                                         \n0       2013-10-08T17:45:00Z        254        0  [116.318726,40.009014]   \n1       2013-10-08T17:46:45Z        254        0  [116.315102,40.004784]   \n2       2013-10-08T17:47:39Z        254        0  [116.315018,40.002842]   \n3       2013-10-08T17:49:26Z        254        0  [116.315041,39.998585]   \n4       2013-10-08T17:51:15Z        254        0  [116.315605,39.992554]   \n...                      ...        ...      ...                     ...   \n518403  2013-10-30T23:14:35Z       4954    21998   [116.333366,39.79073]   \n518404  2013-10-30T23:14:59Z       4954    21998   [116.330444,39.79084]   \n518405  2013-10-30T23:16:35Z       4954    21998  [116.328453,39.793888]   \n518406  2013-10-30T23:16:59Z       4954    21998  [116.328072,39.796574]   \n518407  2013-10-30T23:17:11Z       4954    21998  [116.327988,39.797451]   \n\n        current_dis   speeds  holidays  \nid                                      \n0          0.000000  36.6900         0  \n1          0.562623  24.5375         0  \n2          0.778695  31.9675         0  \n3          1.252148  19.7850         0  \n4          1.924533  24.4500         0  \n...             ...      ...       ...  \n518403    21.419211  27.1450         0  \n518404    21.669183  30.0825         0  \n518405    22.129037  46.0550         0  \n518406    22.429494  51.5150         0  \n518407    22.527282  26.0125         0  \n\n[414844 rows x 7 columns]",
      "text/html": "<div>\n<style scoped>\n    .dataframe tbody tr th:only-of-type {\n        vertical-align: middle;\n    }\n\n    .dataframe tbody tr th {\n        vertical-align: top;\n    }\n\n    .dataframe thead th {\n        text-align: right;\n    }\n</style>\n<table border=\"1\" class=\"dataframe\">\n  <thead>\n    <tr style=\"text-align: right;\">\n      <th></th>\n      <th>time</th>\n      <th>entity_id</th>\n      <th>traj_id</th>\n      <th>coordinates</th>\n      <th>current_dis</th>\n      <th>speeds</th>\n      <th>holidays</th>\n    </tr>\n    <tr>\n      <th>id</th>\n      <th></th>\n      <th></th>\n      <th></th>\n      <th></th>\n      <th></th>\n      <th></th>\n      <th></th>\n    </tr>\n  </thead>\n  <tbody>\n    <tr>\n      <th>0</th>\n      <td>2013-10-08T17:45:00Z</td>\n      <td>254</td>\n      <td>0</td>\n      <td>[116.318726,40.009014]</td>\n      <td>0.000000</td>\n      <td>36.6900</td>\n      <td>0</td>\n    </tr>\n    <tr>\n      <th>1</th>\n      <td>2013-10-08T17:46:45Z</td>\n      <td>254</td>\n      <td>0</td>\n      <td>[116.315102,40.004784]</td>\n      <td>0.562623</td>\n      <td>24.5375</td>\n      <td>0</td>\n    </tr>\n    <tr>\n      <th>2</th>\n      <td>2013-10-08T17:47:39Z</td>\n      <td>254</td>\n      <td>0</td>\n      <td>[116.315018,40.002842]</td>\n      <td>0.778695</td>\n      <td>31.9675</td>\n      <td>0</td>\n    </tr>\n    <tr>\n      <th>3</th>\n      <td>2013-10-08T17:49:26Z</td>\n      <td>254</td>\n      <td>0</td>\n      <td>[116.315041,39.998585]</td>\n      <td>1.252148</td>\n      <td>19.7850</td>\n      <td>0</td>\n    </tr>\n    <tr>\n      <th>4</th>\n      <td>2013-10-08T17:51:15Z</td>\n      <td>254</td>\n      <td>0</td>\n      <td>[116.315605,39.992554]</td>\n      <td>1.924533</td>\n      <td>24.4500</td>\n      <td>0</td>\n    </tr>\n    <tr>\n      <th>...</th>\n      <td>...</td>\n      <td>...</td>\n      <td>...</td>\n      <td>...</td>\n      <td>...</td>\n      <td>...</td>\n      <td>...</td>\n    </tr>\n    <tr>\n      <th>518403</th>\n      <td>2013-10-30T23:14:35Z</td>\n      <td>4954</td>\n      <td>21998</td>\n      <td>[116.333366,39.79073]</td>\n      <td>21.419211</td>\n      <td>27.1450</td>\n      <td>0</td>\n    </tr>\n    <tr>\n      <th>518404</th>\n      <td>2013-10-30T23:14:59Z</td>\n      <td>4954</td>\n      <td>21998</td>\n      <td>[116.330444,39.79084]</td>\n      <td>21.669183</td>\n      <td>30.0825</td>\n      <td>0</td>\n    </tr>\n    <tr>\n      <th>518405</th>\n      <td>2013-10-30T23:16:35Z</td>\n      <td>4954</td>\n      <td>21998</td>\n      <td>[116.328453,39.793888]</td>\n      <td>22.129037</td>\n      <td>46.0550</td>\n      <td>0</td>\n    </tr>\n    <tr>\n      <th>518406</th>\n      <td>2013-10-30T23:16:59Z</td>\n      <td>4954</td>\n      <td>21998</td>\n      <td>[116.328072,39.796574]</td>\n      <td>22.429494</td>\n      <td>51.5150</td>\n      <td>0</td>\n    </tr>\n    <tr>\n      <th>518407</th>\n      <td>2013-10-30T23:17:11Z</td>\n      <td>4954</td>\n      <td>21998</td>\n      <td>[116.327988,39.797451]</td>\n      <td>22.527282</td>\n      <td>26.0125</td>\n      <td>0</td>\n    </tr>\n  </tbody>\n</table>\n<p>414844 rows × 7 columns</p>\n</div>"
     },
     "execution_count": 5,
     "metadata": {},
     "output_type": "execute_result"
    }
   ],
   "source": [
    "traj = pd.read_csv(cwd / 'data' / 'traj.csv', index_col=0)\n",
    "traj"
   ],
   "metadata": {
    "collapsed": false,
    "ExecuteTime": {
     "end_time": "2023-10-11T09:04:52.655926Z",
     "start_time": "2023-10-11T09:04:52.301302Z"
    }
   },
   "id": "50ae3054683751a6"
  },
  {
   "cell_type": "markdown",
   "source": [
    "traj.csv：记录车辆的轨迹\n",
    "time: 时间戳\n",
    "entity_id: 车辆id\n",
    "traj_id: 轨迹id\n",
    "coordinates: 车辆位置(经纬度)\n",
    "current_distance: 行驶距离\n",
    "speeds: 速度\n",
    "holidays: 是否为节假日"
   ],
   "metadata": {
    "collapsed": false
   },
   "id": "b1866dca8039c420"
  },
  {
   "cell_type": "code",
   "execution_count": 6,
   "outputs": [
    {
     "data": {
      "text/plain": "        traj_id                  time  entity_id             coordinates  \\\nid                                                                         \n126           9  2013-10-08T22:30:00Z        254  [116.490013,39.892902]   \n133           9                   NaN        254  [116.511292,39.904655]   \n147          11  2013-10-08T23:00:00Z        254  [116.450546,39.943771]   \n164          11                   NaN        254  [116.440742,40.018944]   \n171          13  2013-10-08T17:15:00Z        255  [116.335503,39.763187]   \n...         ...                   ...        ...                     ...   \n518214    21991                   NaN       4954   [116.371025,39.84676]   \n518315    21997  2013-10-30T22:00:00Z       4954  [116.324913,39.938717]   \n518348    21997                   NaN       4954    [116.2817,39.945621]   \n518408    21999  2013-10-30T00:00:00Z       4955  [116.301109,39.985023]   \n518423    21999                   NaN       4955  [116.270699,39.956749]   \n\n        current_dis   speeds  holidays  \nid                                      \n126        0.000000  37.2925         0  \n133        3.079017  24.6500         0  \n147        0.000000  36.0575         0  \n164       12.543428  49.9000         0  \n171        0.000000  26.6250         0  \n...             ...      ...       ...  \n518214     7.175550  17.9425         0  \n518315     0.000000  39.0125         0  \n518348    11.553799  25.0725         0  \n518408     0.000000  55.1025         0  \n518423     4.662003  18.1775         0  \n\n[8800 rows x 7 columns]",
      "text/html": "<div>\n<style scoped>\n    .dataframe tbody tr th:only-of-type {\n        vertical-align: middle;\n    }\n\n    .dataframe tbody tr th {\n        vertical-align: top;\n    }\n\n    .dataframe thead th {\n        text-align: right;\n    }\n</style>\n<table border=\"1\" class=\"dataframe\">\n  <thead>\n    <tr style=\"text-align: right;\">\n      <th></th>\n      <th>traj_id</th>\n      <th>time</th>\n      <th>entity_id</th>\n      <th>coordinates</th>\n      <th>current_dis</th>\n      <th>speeds</th>\n      <th>holidays</th>\n    </tr>\n    <tr>\n      <th>id</th>\n      <th></th>\n      <th></th>\n      <th></th>\n      <th></th>\n      <th></th>\n      <th></th>\n      <th></th>\n    </tr>\n  </thead>\n  <tbody>\n    <tr>\n      <th>126</th>\n      <td>9</td>\n      <td>2013-10-08T22:30:00Z</td>\n      <td>254</td>\n      <td>[116.490013,39.892902]</td>\n      <td>0.000000</td>\n      <td>37.2925</td>\n      <td>0</td>\n    </tr>\n    <tr>\n      <th>133</th>\n      <td>9</td>\n      <td>NaN</td>\n      <td>254</td>\n      <td>[116.511292,39.904655]</td>\n      <td>3.079017</td>\n      <td>24.6500</td>\n      <td>0</td>\n    </tr>\n    <tr>\n      <th>147</th>\n      <td>11</td>\n      <td>2013-10-08T23:00:00Z</td>\n      <td>254</td>\n      <td>[116.450546,39.943771]</td>\n      <td>0.000000</td>\n      <td>36.0575</td>\n      <td>0</td>\n    </tr>\n    <tr>\n      <th>164</th>\n      <td>11</td>\n      <td>NaN</td>\n      <td>254</td>\n      <td>[116.440742,40.018944]</td>\n      <td>12.543428</td>\n      <td>49.9000</td>\n      <td>0</td>\n    </tr>\n    <tr>\n      <th>171</th>\n      <td>13</td>\n      <td>2013-10-08T17:15:00Z</td>\n      <td>255</td>\n      <td>[116.335503,39.763187]</td>\n      <td>0.000000</td>\n      <td>26.6250</td>\n      <td>0</td>\n    </tr>\n    <tr>\n      <th>...</th>\n      <td>...</td>\n      <td>...</td>\n      <td>...</td>\n      <td>...</td>\n      <td>...</td>\n      <td>...</td>\n      <td>...</td>\n    </tr>\n    <tr>\n      <th>518214</th>\n      <td>21991</td>\n      <td>NaN</td>\n      <td>4954</td>\n      <td>[116.371025,39.84676]</td>\n      <td>7.175550</td>\n      <td>17.9425</td>\n      <td>0</td>\n    </tr>\n    <tr>\n      <th>518315</th>\n      <td>21997</td>\n      <td>2013-10-30T22:00:00Z</td>\n      <td>4954</td>\n      <td>[116.324913,39.938717]</td>\n      <td>0.000000</td>\n      <td>39.0125</td>\n      <td>0</td>\n    </tr>\n    <tr>\n      <th>518348</th>\n      <td>21997</td>\n      <td>NaN</td>\n      <td>4954</td>\n      <td>[116.2817,39.945621]</td>\n      <td>11.553799</td>\n      <td>25.0725</td>\n      <td>0</td>\n    </tr>\n    <tr>\n      <th>518408</th>\n      <td>21999</td>\n      <td>2013-10-30T00:00:00Z</td>\n      <td>4955</td>\n      <td>[116.301109,39.985023]</td>\n      <td>0.000000</td>\n      <td>55.1025</td>\n      <td>0</td>\n    </tr>\n    <tr>\n      <th>518423</th>\n      <td>21999</td>\n      <td>NaN</td>\n      <td>4955</td>\n      <td>[116.270699,39.956749]</td>\n      <td>4.662003</td>\n      <td>18.1775</td>\n      <td>0</td>\n    </tr>\n  </tbody>\n</table>\n<p>8800 rows × 7 columns</p>\n</div>"
     },
     "execution_count": 6,
     "metadata": {},
     "output_type": "execute_result"
    }
   ],
   "source": [
    "eta = pd.read_csv(cwd / 'data' /'eta_task.csv', index_col=0)\n",
    "eta"
   ],
   "metadata": {
    "collapsed": false,
    "ExecuteTime": {
     "end_time": "2023-10-11T09:04:57.150224Z",
     "start_time": "2023-10-11T09:04:57.131007Z"
    }
   },
   "id": "b2142195cafa5f45"
  },
  {
   "cell_type": "markdown",
   "source": [
    "给定轨迹起始地点和终止地点，估计到达时刻"
   ],
   "metadata": {
    "collapsed": false
   },
   "id": "f3aa1ec48ca7f02"
  },
  {
   "cell_type": "markdown",
   "source": [
    "jump = pd.read_csv(cwd / 'data' / 'jump_task.csv', index_col=0)\n",
    "jump.head(16)"
   ],
   "metadata": {
    "collapsed": false
   },
   "id": "ea1be03c52b2837c"
  },
  {
   "cell_type": "raw",
   "source": [
    "给定长度 14 的轨迹，预测第 15 个位置"
   ],
   "metadata": {
    "collapsed": false
   },
   "id": "2d3f84c966ab4695"
  },
  {
   "cell_type": "code",
   "execution_count": 5,
   "outputs": [
    {
     "data": {
      "text/plain": "             type                coordinates  highway\ngeo_id                                               \n25248785    Point  [116.3894407, 39.9062721]        1\n25248786    Point   [116.3930703, 39.906394]        1\n25248787    Point  [116.3970962, 39.9065222]        1\n25248790    Point  [116.3898158, 39.8987502]        1\n25248791    Point  [116.3934609, 39.8988716]        1\n...           ...                        ...      ...\n8146165672  Point  [116.3743494, 39.8868081]        0\n8155060145  Point  [116.4025587, 39.8338872]        0\n8155060148  Point   [116.406357, 39.8311645]        0\n8155060149  Point  [116.4059676, 39.8338401]        0\n8156964535  Point  [116.3121472, 39.9935096]        0\n\n[16927 rows x 3 columns]",
      "text/html": "<div>\n<style scoped>\n    .dataframe tbody tr th:only-of-type {\n        vertical-align: middle;\n    }\n\n    .dataframe tbody tr th {\n        vertical-align: top;\n    }\n\n    .dataframe thead th {\n        text-align: right;\n    }\n</style>\n<table border=\"1\" class=\"dataframe\">\n  <thead>\n    <tr style=\"text-align: right;\">\n      <th></th>\n      <th>type</th>\n      <th>coordinates</th>\n      <th>highway</th>\n    </tr>\n    <tr>\n      <th>geo_id</th>\n      <th></th>\n      <th></th>\n      <th></th>\n    </tr>\n  </thead>\n  <tbody>\n    <tr>\n      <th>25248785</th>\n      <td>Point</td>\n      <td>[116.3894407, 39.9062721]</td>\n      <td>1</td>\n    </tr>\n    <tr>\n      <th>25248786</th>\n      <td>Point</td>\n      <td>[116.3930703, 39.906394]</td>\n      <td>1</td>\n    </tr>\n    <tr>\n      <th>25248787</th>\n      <td>Point</td>\n      <td>[116.3970962, 39.9065222]</td>\n      <td>1</td>\n    </tr>\n    <tr>\n      <th>25248790</th>\n      <td>Point</td>\n      <td>[116.3898158, 39.8987502]</td>\n      <td>1</td>\n    </tr>\n    <tr>\n      <th>25248791</th>\n      <td>Point</td>\n      <td>[116.3934609, 39.8988716]</td>\n      <td>1</td>\n    </tr>\n    <tr>\n      <th>...</th>\n      <td>...</td>\n      <td>...</td>\n      <td>...</td>\n    </tr>\n    <tr>\n      <th>8146165672</th>\n      <td>Point</td>\n      <td>[116.3743494, 39.8868081]</td>\n      <td>0</td>\n    </tr>\n    <tr>\n      <th>8155060145</th>\n      <td>Point</td>\n      <td>[116.4025587, 39.8338872]</td>\n      <td>0</td>\n    </tr>\n    <tr>\n      <th>8155060148</th>\n      <td>Point</td>\n      <td>[116.406357, 39.8311645]</td>\n      <td>0</td>\n    </tr>\n    <tr>\n      <th>8155060149</th>\n      <td>Point</td>\n      <td>[116.4059676, 39.8338401]</td>\n      <td>0</td>\n    </tr>\n    <tr>\n      <th>8156964535</th>\n      <td>Point</td>\n      <td>[116.3121472, 39.9935096]</td>\n      <td>0</td>\n    </tr>\n  </tbody>\n</table>\n<p>16927 rows × 3 columns</p>\n</div>"
     },
     "execution_count": 5,
     "metadata": {},
     "output_type": "execute_result"
    }
   ],
   "source": [
    "node = pd.read_csv(cwd / 'data' / 'node.csv', index_col=0)\n",
    "node"
   ],
   "metadata": {
    "collapsed": false,
    "ExecuteTime": {
     "end_time": "2023-11-15T17:20:29.307202Z",
     "start_time": "2023-11-15T17:20:29.276236Z"
    }
   },
   "id": "658bd22860b04942"
  },
  {
   "cell_type": "markdown",
   "source": [
    "node.csv：记录路网的交叉口信息，可能用于 fmm 工具链\n",
    "geo_id: 交叉口id\n",
    "coordinates: 交叉口位置(经纬度)\n",
    "highway: 交叉口类型"
   ],
   "metadata": {
    "collapsed": false
   },
   "id": "ceff8457cdee50f"
  }
 ],
 "metadata": {
  "kernelspec": {
   "display_name": "Python 3",
   "language": "python",
   "name": "python3"
  },
  "language_info": {
   "codemirror_mode": {
    "name": "ipython",
    "version": 2
   },
   "file_extension": ".py",
   "mimetype": "text/x-python",
   "name": "python",
   "nbconvert_exporter": "python",
   "pygments_lexer": "ipython2",
   "version": "2.7.6"
  }
 },
 "nbformat": 4,
 "nbformat_minor": 5
}